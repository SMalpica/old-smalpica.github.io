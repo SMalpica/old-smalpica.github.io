{
 "cells": [
  {
   "cell_type": "markdown",
   "metadata": {},
   "source": [
    "# Introduction"
   ]
  },
  {
   "cell_type": "markdown",
   "metadata": {},
   "source": [
    "This notebook will walk you through creating and monitoring your HITs. \n",
    "\n",
    "It provides methods to create HITs, pretty-print HIT and assignment status, expire/edit HITs, create qualifications, and download collected data. \n",
    "\n",
    "Before continuing, make sure that you have read the README and set all config fields to their desired values.\n",
    "\n",
    "## Requirements: \n",
    "\n",
    "This code requires Python3 and the following packages: \n",
    "- boto3 \n",
    "- beautiful soup 4\n",
    "\n",
    "Before using, you will have to set up an authentication key to use the Amazon API and include it in a credentials file. See here: https://aws.amazon.com/developers/getting-started/python/"
   ]
  },
  {
   "cell_type": "markdown",
   "metadata": {},
   "source": [
    "# Setup"
   ]
  },
  {
   "cell_type": "markdown",
   "metadata": {},
   "source": [
    "Read the config file and establish a connection to MTurk.\n",
    "\n",
    "A connection is made to production or to the sandbox based on values in the config. "
   ]
  },
  {
   "cell_type": "code",
   "execution_count": 77,
   "metadata": {},
   "outputs": [],
   "source": [
    "import datetime\n",
    "import boto3\n",
    "import json\n",
    "import copy\n",
    "import pprint\n",
    "from bs4 import BeautifulSoup as bs \n",
    "from uuid import uuid4"
   ]
  },
  {
   "cell_type": "code",
   "execution_count": 78,
   "metadata": {},
   "outputs": [],
   "source": [
    "# path to the config file \n",
    "CONFIG_PATH = \"configNotebook.json\"\n",
    "\n",
    "# where to save downloaded results \n",
    "SAVE_PATH = \"assignments_notSandbox.json\" \n",
    "\n",
    "# Sandbox or Production? You only spend money in Production.\n",
    "USING_PROD = True"
   ]
  },
  {
   "cell_type": "code",
   "execution_count": 108,
   "metadata": {},
   "outputs": [],
   "source": [
    "# Safety flags that prevent you from accidentally messing up your HITs. \n",
    "# Set to False except when you are performing these specific tasks.\n",
    "ALLOW_HIT_CREATION = False\n",
    "ALLOW_ASSIGNMENT_ADDITION = False\n",
    "ALLOW_CREATE_QUAL = False\n",
    "ALLOW_UPDATE_EXPIRATION = True"
   ]
  },
  {
   "cell_type": "code",
   "execution_count": 80,
   "metadata": {},
   "outputs": [
    {
     "name": "stdout",
     "output_type": "stream",
     "text": [
      "USING PROD\n",
      "Configuring task as an iframe within Mturk\n",
      "TASK URL: https://smalpica.github.io/\n"
     ]
    }
   ],
   "source": [
    "# Read config and extract relevant settings\n",
    "with open(CONFIG_PATH, 'r') as f:\n",
    "    config = json.loads(f.read())\n",
    "    \n",
    "hit_config = config['hitCreation']\n",
    "\n",
    "external_submit = config['advanced']['externalSubmit']\n",
    "    \n",
    "hit_url = hit_config['taskUrl']\n",
    "\n",
    "if USING_PROD:\n",
    "    print(\"USING PROD\")\n",
    "    endpoint_url = 'https://mturk-requester.us-east-1.amazonaws.com'\n",
    "    origin=\"production\"\n",
    "else:\n",
    "    print(\"USING SANDBOX\")\n",
    "    endpoint_url = 'https://mturk-requester-sandbox.us-east-1.amazonaws.com'\n",
    "    origin=\"sandbox\"\n",
    "\n",
    "# If using an external link, add a querystring origin=sandbox or origin=production \n",
    "# for use in your js logic if you want. Not done for MTurk submits because it breaks the submit link\n",
    "if external_submit: \n",
    "    hit_url = \"%s?origin=%s\" % (hit_url, origin)\n",
    "\n",
    "if external_submit:\n",
    "    print(\"Configuring task as external link with data submitted to: %s\" % config['advanced']['externalSubmitUrl'])\n",
    "else:\n",
    "    print(\"Configuring task as an iframe within Mturk\")\n",
    "print(\"TASK URL: \" + hit_url)\n",
    "\n",
    "session = boto3.session.Session(profile_name='default')\n",
    "cl = session.client('mturk', region_name='us-east-1', endpoint_url=endpoint_url)"
   ]
  },
  {
   "cell_type": "markdown",
   "metadata": {},
   "source": [
    "# Make new HIT"
   ]
  },
  {
   "cell_type": "code",
   "execution_count": 109,
   "metadata": {},
   "outputs": [],
   "source": [
    "# List of qualifications that you will use to filter potential workers. \n",
    "# These require that workers come from the US and have an approval rating >= 95%\n",
    "# Edit this list to specify different qualifications for workers \n",
    "QUALS = [\n",
    "    #{\n",
    "    #    'QualificationTypeId': '00000000000000000071',\n",
    "    #    'Comparator': 'EqualTo',\n",
    "    #    'LocaleValues': [{\n",
    "    #        'Country': 'US',\n",
    "    #    }],\n",
    "    #},\n",
    "    #{\n",
    "    #    'QualificationTypeId': '000000000000000000L0',\n",
    "    #    'Comparator': 'GreaterThanOrEqualTo',\n",
    "    #    'IntegerValues': [\n",
    "    #        50\n",
    "    #    ],\n",
    "    #},\n",
    "]"
   ]
  },
  {
   "cell_type": "code",
   "execution_count": 96,
   "metadata": {},
   "outputs": [],
   "source": [
    "# Helpers for creating HITs. \n",
    "\n",
    "# generic helper that sets metadata fields based on the config file.\n",
    "def create_hit(task, questionText, quals=QUALS): \n",
    "    response = cl.create_hit(\n",
    "        MaxAssignments=task['numAssignments'],\n",
    "        AutoApprovalDelayInSeconds=604800,\n",
    "        LifetimeInSeconds=task['lifetime'],\n",
    "        AssignmentDurationInSeconds=task['duration'],\n",
    "        Reward=task['rewardAmount'],\n",
    "        Title=task['title'],\n",
    "        Keywords=task['keywords'],\n",
    "        Description=task['description'],\n",
    "        Question=questionText,\n",
    "        QualificationRequirements=quals,\n",
    "    )\n",
    "    print(response)\n",
    "    print(\"\\n\")\n",
    "\n",
    "# creates a HIT in the form of an External Question inside an iFrame\n",
    "def create_hit_iframe(task):\n",
    "    questionText = \"<ExternalQuestion xmlns=\\\"http://mechanicalturk.amazonaws.com/AWSMechanicalTurkDataSchemas/\"\n",
    "    questionText += \"2006-07-14/ExternalQuestion.xsd\\\">\\n<ExternalURL>\" + task['taskUrl']\n",
    "    questionText += \"</ExternalURL>\\n  <FrameHeight>1200</FrameHeight>\\n</ExternalQuestion>\"\n",
    "    create_hit(task, questionText)\n",
    "    \n",
    "# Helper to create a HIT in the form of a simple UI with a link to an external page and an\n",
    "# input box for a completion code \n",
    "def create_hit_external(task):\n",
    "    with open('questionform_template.xml', 'r') as myfile:\n",
    "        template=myfile.read() \n",
    "    question_xml = template % (hit_config[\"title\"], hit_config[\"description\"], hit_url)\n",
    "    create_hit(task, question_xml)"
   ]
  },
  {
   "cell_type": "code",
   "execution_count": 97,
   "metadata": {},
   "outputs": [
    {
     "name": "stdout",
     "output_type": "stream",
     "text": [
      "creating 10 tasks\n",
      "{'HIT': {'HITId': '3CVBMEMMXD458OGO3KFHBDUK0NWH7K', 'HITTypeId': '34A9VSEXPGPP358Q09M2M2US6NY9J3', 'HITGroupId': '3RFNWL8VRXLBX2PVLE0SSGYY3U5GZL', 'CreationTime': datetime.datetime(2019, 5, 14, 14, 44, 47, tzinfo=tzlocal()), 'Title': 'Outdoor scenes', 'Description': 'Find the outdoor scenes in several blocks of images', 'Question': '<ExternalQuestion xmlns=\"http://mechanicalturk.amazonaws.com/AWSMechanicalTurkDataSchemas/2006-07-14/ExternalQuestion.xsd\">\\n<ExternalURL>https://smalpica.github.io/</ExternalURL>\\n  <FrameHeight>1200</FrameHeight>\\n</ExternalQuestion>', 'Keywords': 'outdoor, detection, images, 2D, outlier', 'HITStatus': 'Assignable', 'MaxAssignments': 1, 'Reward': '2.00', 'AutoApprovalDelayInSeconds': 604800, 'Expiration': datetime.datetime(2019, 5, 15, 14, 44, 47, tzinfo=tzlocal()), 'AssignmentDurationInSeconds': 720, 'QualificationRequirements': [], 'HITReviewStatus': 'NotReviewed', 'NumberOfAssignmentsPending': 0, 'NumberOfAssignmentsAvailable': 1, 'NumberOfAssignmentsCompleted': 0}, 'ResponseMetadata': {'RequestId': '67ad54cb-cd58-4295-9c80-5afa16ee14e9', 'HTTPStatusCode': 200, 'HTTPHeaders': {'x-amzn-requestid': '67ad54cb-cd58-4295-9c80-5afa16ee14e9', 'content-type': 'application/x-amz-json-1.1', 'content-length': '884', 'date': 'Tue, 14 May 2019 21:44:47 GMT'}, 'RetryAttempts': 0}}\n",
      "\n",
      "\n",
      "{'HIT': {'HITId': '3XEIP58NL2BQEU5KD0MYUPGQRXHZL0', 'HITTypeId': '34A9VSEXPGPP358Q09M2M2US6NY9J3', 'HITGroupId': '3RFNWL8VRXLBX2PVLE0SSGYY3U5GZL', 'CreationTime': datetime.datetime(2019, 5, 14, 14, 44, 47, tzinfo=tzlocal()), 'Title': 'Outdoor scenes', 'Description': 'Find the outdoor scenes in several blocks of images', 'Question': '<ExternalQuestion xmlns=\"http://mechanicalturk.amazonaws.com/AWSMechanicalTurkDataSchemas/2006-07-14/ExternalQuestion.xsd\">\\n<ExternalURL>https://smalpica.github.io/</ExternalURL>\\n  <FrameHeight>1200</FrameHeight>\\n</ExternalQuestion>', 'Keywords': 'outdoor, detection, images, 2D, outlier', 'HITStatus': 'Assignable', 'MaxAssignments': 1, 'Reward': '2.00', 'AutoApprovalDelayInSeconds': 604800, 'Expiration': datetime.datetime(2019, 5, 15, 14, 44, 47, tzinfo=tzlocal()), 'AssignmentDurationInSeconds': 720, 'QualificationRequirements': [], 'HITReviewStatus': 'NotReviewed', 'NumberOfAssignmentsPending': 0, 'NumberOfAssignmentsAvailable': 1, 'NumberOfAssignmentsCompleted': 0}, 'ResponseMetadata': {'RequestId': '2c541763-31d7-4021-8cdc-680630eae3c4', 'HTTPStatusCode': 200, 'HTTPHeaders': {'x-amzn-requestid': '2c541763-31d7-4021-8cdc-680630eae3c4', 'content-type': 'application/x-amz-json-1.1', 'content-length': '884', 'date': 'Tue, 14 May 2019 21:44:47 GMT'}, 'RetryAttempts': 0}}\n",
      "\n",
      "\n",
      "{'HIT': {'HITId': '3UEDKCTP9XEWAEHW95IEO5ACS407KE', 'HITTypeId': '34A9VSEXPGPP358Q09M2M2US6NY9J3', 'HITGroupId': '3RFNWL8VRXLBX2PVLE0SSGYY3U5GZL', 'CreationTime': datetime.datetime(2019, 5, 14, 14, 44, 48, tzinfo=tzlocal()), 'Title': 'Outdoor scenes', 'Description': 'Find the outdoor scenes in several blocks of images', 'Question': '<ExternalQuestion xmlns=\"http://mechanicalturk.amazonaws.com/AWSMechanicalTurkDataSchemas/2006-07-14/ExternalQuestion.xsd\">\\n<ExternalURL>https://smalpica.github.io/</ExternalURL>\\n  <FrameHeight>1200</FrameHeight>\\n</ExternalQuestion>', 'Keywords': 'outdoor, detection, images, 2D, outlier', 'HITStatus': 'Assignable', 'MaxAssignments': 1, 'Reward': '2.00', 'AutoApprovalDelayInSeconds': 604800, 'Expiration': datetime.datetime(2019, 5, 15, 14, 44, 48, tzinfo=tzlocal()), 'AssignmentDurationInSeconds': 720, 'QualificationRequirements': [], 'HITReviewStatus': 'NotReviewed', 'NumberOfAssignmentsPending': 0, 'NumberOfAssignmentsAvailable': 1, 'NumberOfAssignmentsCompleted': 0}, 'ResponseMetadata': {'RequestId': 'e4f998f9-2461-4e2f-bd12-fc1c25492a23', 'HTTPStatusCode': 200, 'HTTPHeaders': {'x-amzn-requestid': 'e4f998f9-2461-4e2f-bd12-fc1c25492a23', 'content-type': 'application/x-amz-json-1.1', 'content-length': '884', 'date': 'Tue, 14 May 2019 21:44:47 GMT'}, 'RetryAttempts': 0}}\n",
      "\n",
      "\n",
      "{'HIT': {'HITId': '3R4QIDVOJR0EXT4W0RLHWKPOUU8EEN', 'HITTypeId': '34A9VSEXPGPP358Q09M2M2US6NY9J3', 'HITGroupId': '3RFNWL8VRXLBX2PVLE0SSGYY3U5GZL', 'CreationTime': datetime.datetime(2019, 5, 14, 14, 44, 48, tzinfo=tzlocal()), 'Title': 'Outdoor scenes', 'Description': 'Find the outdoor scenes in several blocks of images', 'Question': '<ExternalQuestion xmlns=\"http://mechanicalturk.amazonaws.com/AWSMechanicalTurkDataSchemas/2006-07-14/ExternalQuestion.xsd\">\\n<ExternalURL>https://smalpica.github.io/</ExternalURL>\\n  <FrameHeight>1200</FrameHeight>\\n</ExternalQuestion>', 'Keywords': 'outdoor, detection, images, 2D, outlier', 'HITStatus': 'Assignable', 'MaxAssignments': 1, 'Reward': '2.00', 'AutoApprovalDelayInSeconds': 604800, 'Expiration': datetime.datetime(2019, 5, 15, 14, 44, 48, tzinfo=tzlocal()), 'AssignmentDurationInSeconds': 720, 'QualificationRequirements': [], 'HITReviewStatus': 'NotReviewed', 'NumberOfAssignmentsPending': 0, 'NumberOfAssignmentsAvailable': 1, 'NumberOfAssignmentsCompleted': 0}, 'ResponseMetadata': {'RequestId': '1d46a790-6e2c-4a37-af78-19af6bfe5040', 'HTTPStatusCode': 200, 'HTTPHeaders': {'x-amzn-requestid': '1d46a790-6e2c-4a37-af78-19af6bfe5040', 'content-type': 'application/x-amz-json-1.1', 'content-length': '884', 'date': 'Tue, 14 May 2019 21:44:47 GMT'}, 'RetryAttempts': 0}}\n",
      "\n",
      "\n",
      "{'HIT': {'HITId': '3EHIMLB7F9N982L7DP7NPDQFB72H87', 'HITTypeId': '34A9VSEXPGPP358Q09M2M2US6NY9J3', 'HITGroupId': '3RFNWL8VRXLBX2PVLE0SSGYY3U5GZL', 'CreationTime': datetime.datetime(2019, 5, 14, 14, 44, 48, tzinfo=tzlocal()), 'Title': 'Outdoor scenes', 'Description': 'Find the outdoor scenes in several blocks of images', 'Question': '<ExternalQuestion xmlns=\"http://mechanicalturk.amazonaws.com/AWSMechanicalTurkDataSchemas/2006-07-14/ExternalQuestion.xsd\">\\n<ExternalURL>https://smalpica.github.io/</ExternalURL>\\n  <FrameHeight>1200</FrameHeight>\\n</ExternalQuestion>', 'Keywords': 'outdoor, detection, images, 2D, outlier', 'HITStatus': 'Assignable', 'MaxAssignments': 1, 'Reward': '2.00', 'AutoApprovalDelayInSeconds': 604800, 'Expiration': datetime.datetime(2019, 5, 15, 14, 44, 48, tzinfo=tzlocal()), 'AssignmentDurationInSeconds': 720, 'QualificationRequirements': [], 'HITReviewStatus': 'NotReviewed', 'NumberOfAssignmentsPending': 0, 'NumberOfAssignmentsAvailable': 1, 'NumberOfAssignmentsCompleted': 0}, 'ResponseMetadata': {'RequestId': 'e3d5333f-5077-41cb-b00a-b86524c7f87b', 'HTTPStatusCode': 200, 'HTTPHeaders': {'x-amzn-requestid': 'e3d5333f-5077-41cb-b00a-b86524c7f87b', 'content-type': 'application/x-amz-json-1.1', 'content-length': '884', 'date': 'Tue, 14 May 2019 21:44:48 GMT'}, 'RetryAttempts': 0}}\n",
      "\n",
      "\n",
      "{'HIT': {'HITId': '3421H3BM9C55DDZ76HGM1M1585O9JT', 'HITTypeId': '34A9VSEXPGPP358Q09M2M2US6NY9J3', 'HITGroupId': '3RFNWL8VRXLBX2PVLE0SSGYY3U5GZL', 'CreationTime': datetime.datetime(2019, 5, 14, 14, 44, 48, tzinfo=tzlocal()), 'Title': 'Outdoor scenes', 'Description': 'Find the outdoor scenes in several blocks of images', 'Question': '<ExternalQuestion xmlns=\"http://mechanicalturk.amazonaws.com/AWSMechanicalTurkDataSchemas/2006-07-14/ExternalQuestion.xsd\">\\n<ExternalURL>https://smalpica.github.io/</ExternalURL>\\n  <FrameHeight>1200</FrameHeight>\\n</ExternalQuestion>', 'Keywords': 'outdoor, detection, images, 2D, outlier', 'HITStatus': 'Assignable', 'MaxAssignments': 1, 'Reward': '2.00', 'AutoApprovalDelayInSeconds': 604800, 'Expiration': datetime.datetime(2019, 5, 15, 14, 44, 48, tzinfo=tzlocal()), 'AssignmentDurationInSeconds': 720, 'QualificationRequirements': [], 'HITReviewStatus': 'NotReviewed', 'NumberOfAssignmentsPending': 0, 'NumberOfAssignmentsAvailable': 1, 'NumberOfAssignmentsCompleted': 0}, 'ResponseMetadata': {'RequestId': '9559e21e-9075-4d43-b57b-b9625ab17b98', 'HTTPStatusCode': 200, 'HTTPHeaders': {'x-amzn-requestid': '9559e21e-9075-4d43-b57b-b9625ab17b98', 'content-type': 'application/x-amz-json-1.1', 'content-length': '884', 'date': 'Tue, 14 May 2019 21:44:48 GMT'}, 'RetryAttempts': 0}}\n",
      "\n",
      "\n",
      "{'HIT': {'HITId': '3GONHBMNHXMAKCN5DCNDU2VFR27ZM2', 'HITTypeId': '34A9VSEXPGPP358Q09M2M2US6NY9J3', 'HITGroupId': '3RFNWL8VRXLBX2PVLE0SSGYY3U5GZL', 'CreationTime': datetime.datetime(2019, 5, 14, 14, 44, 48, tzinfo=tzlocal()), 'Title': 'Outdoor scenes', 'Description': 'Find the outdoor scenes in several blocks of images', 'Question': '<ExternalQuestion xmlns=\"http://mechanicalturk.amazonaws.com/AWSMechanicalTurkDataSchemas/2006-07-14/ExternalQuestion.xsd\">\\n<ExternalURL>https://smalpica.github.io/</ExternalURL>\\n  <FrameHeight>1200</FrameHeight>\\n</ExternalQuestion>', 'Keywords': 'outdoor, detection, images, 2D, outlier', 'HITStatus': 'Assignable', 'MaxAssignments': 1, 'Reward': '2.00', 'AutoApprovalDelayInSeconds': 604800, 'Expiration': datetime.datetime(2019, 5, 15, 14, 44, 48, tzinfo=tzlocal()), 'AssignmentDurationInSeconds': 720, 'QualificationRequirements': [], 'HITReviewStatus': 'NotReviewed', 'NumberOfAssignmentsPending': 0, 'NumberOfAssignmentsAvailable': 1, 'NumberOfAssignmentsCompleted': 0}, 'ResponseMetadata': {'RequestId': '060fdb72-0e15-470c-b108-6ef7c9b64af1', 'HTTPStatusCode': 200, 'HTTPHeaders': {'x-amzn-requestid': '060fdb72-0e15-470c-b108-6ef7c9b64af1', 'content-type': 'application/x-amz-json-1.1', 'content-length': '884', 'date': 'Tue, 14 May 2019 21:44:48 GMT'}, 'RetryAttempts': 0}}\n",
      "\n",
      "\n",
      "{'HIT': {'HITId': '3EN4YVUOUEGVE9H59XM0HPNNF8EXJZ', 'HITTypeId': '34A9VSEXPGPP358Q09M2M2US6NY9J3', 'HITGroupId': '3RFNWL8VRXLBX2PVLE0SSGYY3U5GZL', 'CreationTime': datetime.datetime(2019, 5, 14, 14, 44, 49, tzinfo=tzlocal()), 'Title': 'Outdoor scenes', 'Description': 'Find the outdoor scenes in several blocks of images', 'Question': '<ExternalQuestion xmlns=\"http://mechanicalturk.amazonaws.com/AWSMechanicalTurkDataSchemas/2006-07-14/ExternalQuestion.xsd\">\\n<ExternalURL>https://smalpica.github.io/</ExternalURL>\\n  <FrameHeight>1200</FrameHeight>\\n</ExternalQuestion>', 'Keywords': 'outdoor, detection, images, 2D, outlier', 'HITStatus': 'Assignable', 'MaxAssignments': 1, 'Reward': '2.00', 'AutoApprovalDelayInSeconds': 604800, 'Expiration': datetime.datetime(2019, 5, 15, 14, 44, 49, tzinfo=tzlocal()), 'AssignmentDurationInSeconds': 720, 'QualificationRequirements': [], 'HITReviewStatus': 'NotReviewed', 'NumberOfAssignmentsPending': 0, 'NumberOfAssignmentsAvailable': 1, 'NumberOfAssignmentsCompleted': 0}, 'ResponseMetadata': {'RequestId': 'fd5400fe-b78f-4227-9ea8-bc5c718ab26b', 'HTTPStatusCode': 200, 'HTTPHeaders': {'x-amzn-requestid': 'fd5400fe-b78f-4227-9ea8-bc5c718ab26b', 'content-type': 'application/x-amz-json-1.1', 'content-length': '884', 'date': 'Tue, 14 May 2019 21:44:48 GMT'}, 'RetryAttempts': 0}}\n",
      "\n",
      "\n"
     ]
    },
    {
     "name": "stdout",
     "output_type": "stream",
     "text": [
      "{'HIT': {'HITId': '341YLJU21KNYIIU23QG7FYERPKP2II', 'HITTypeId': '34A9VSEXPGPP358Q09M2M2US6NY9J3', 'HITGroupId': '3RFNWL8VRXLBX2PVLE0SSGYY3U5GZL', 'CreationTime': datetime.datetime(2019, 5, 14, 14, 44, 49, tzinfo=tzlocal()), 'Title': 'Outdoor scenes', 'Description': 'Find the outdoor scenes in several blocks of images', 'Question': '<ExternalQuestion xmlns=\"http://mechanicalturk.amazonaws.com/AWSMechanicalTurkDataSchemas/2006-07-14/ExternalQuestion.xsd\">\\n<ExternalURL>https://smalpica.github.io/</ExternalURL>\\n  <FrameHeight>1200</FrameHeight>\\n</ExternalQuestion>', 'Keywords': 'outdoor, detection, images, 2D, outlier', 'HITStatus': 'Assignable', 'MaxAssignments': 1, 'Reward': '2.00', 'AutoApprovalDelayInSeconds': 604800, 'Expiration': datetime.datetime(2019, 5, 15, 14, 44, 49, tzinfo=tzlocal()), 'AssignmentDurationInSeconds': 720, 'QualificationRequirements': [], 'HITReviewStatus': 'NotReviewed', 'NumberOfAssignmentsPending': 0, 'NumberOfAssignmentsAvailable': 1, 'NumberOfAssignmentsCompleted': 0}, 'ResponseMetadata': {'RequestId': '03ca0a3b-5174-41f4-858a-4a7690f724ac', 'HTTPStatusCode': 200, 'HTTPHeaders': {'x-amzn-requestid': '03ca0a3b-5174-41f4-858a-4a7690f724ac', 'content-type': 'application/x-amz-json-1.1', 'content-length': '884', 'date': 'Tue, 14 May 2019 21:44:48 GMT'}, 'RetryAttempts': 0}}\n",
      "\n",
      "\n",
      "{'HIT': {'HITId': '3QTFNPMJC86G2U85PD2D7HKFWSHZN2', 'HITTypeId': '34A9VSEXPGPP358Q09M2M2US6NY9J3', 'HITGroupId': '3RFNWL8VRXLBX2PVLE0SSGYY3U5GZL', 'CreationTime': datetime.datetime(2019, 5, 14, 14, 44, 49, tzinfo=tzlocal()), 'Title': 'Outdoor scenes', 'Description': 'Find the outdoor scenes in several blocks of images', 'Question': '<ExternalQuestion xmlns=\"http://mechanicalturk.amazonaws.com/AWSMechanicalTurkDataSchemas/2006-07-14/ExternalQuestion.xsd\">\\n<ExternalURL>https://smalpica.github.io/</ExternalURL>\\n  <FrameHeight>1200</FrameHeight>\\n</ExternalQuestion>', 'Keywords': 'outdoor, detection, images, 2D, outlier', 'HITStatus': 'Assignable', 'MaxAssignments': 1, 'Reward': '2.00', 'AutoApprovalDelayInSeconds': 604800, 'Expiration': datetime.datetime(2019, 5, 15, 14, 44, 49, tzinfo=tzlocal()), 'AssignmentDurationInSeconds': 720, 'QualificationRequirements': [], 'HITReviewStatus': 'NotReviewed', 'NumberOfAssignmentsPending': 0, 'NumberOfAssignmentsAvailable': 1, 'NumberOfAssignmentsCompleted': 0}, 'ResponseMetadata': {'RequestId': 'a1a63dc6-ab21-4964-94ff-b0df41d5b382', 'HTTPStatusCode': 200, 'HTTPHeaders': {'x-amzn-requestid': 'a1a63dc6-ab21-4964-94ff-b0df41d5b382', 'content-type': 'application/x-amz-json-1.1', 'content-length': '884', 'date': 'Tue, 14 May 2019 21:44:48 GMT'}, 'RetryAttempts': 0}}\n",
      "\n",
      "\n"
     ]
    }
   ],
   "source": [
    "# Use this cell to launch your HIT! \n",
    "if ALLOW_HIT_CREATION: \n",
    "    if not (hit_config.get('variants', False) or hit_config.get('numTasks', False)): \n",
    "        raise RuntimeError(\"You must specify either hitCreation.numTasks or hitCreation.variants in your config.json file\")\n",
    "    \n",
    "    hit_creation_function = create_hit_external if external_submit else create_hit_iframe\n",
    "    \n",
    "    if hit_config.get('numTasks', False): \n",
    "        print(\"creating \" + str(hit_config['numTasks']) + \" tasks\")\n",
    "        for i in range(hit_config['numTasks']):\n",
    "            hit_creation_function(hit_config)\n",
    "    else: \n",
    "        print(\"creating \" + str(len(config['variants'])) + \" variants\")\n",
    "        for var in hit_config['variants']: \n",
    "            task = copy.deepcopy(config)\n",
    "            task.update(var)\n",
    "            hit_creation_function(task)\n",
    "else: \n",
    "    raise RuntimeError(\"This action is not currently enabled; set `ALLOW_HIT_CREATION` to true to proceed with this action\")"
   ]
  },
  {
   "cell_type": "markdown",
   "metadata": {},
   "source": [
    "# HIT monitoring helpers"
   ]
  },
  {
   "cell_type": "markdown",
   "metadata": {},
   "source": [
    "Helper functions that will be useful for monitoring the status of your HIT. See next section for how to use them."
   ]
  },
  {
   "cell_type": "code",
   "execution_count": 110,
   "metadata": {},
   "outputs": [],
   "source": [
    "# Contacts MTurk API to get all assignments for a HIT\n",
    "# Returns them in a list. \n",
    "def get_all_assignments(hitid): \n",
    "    assignments = []\n",
    "    should_continue = True\n",
    "    next_token = False\n",
    "    while (should_continue): \n",
    "        args = {\n",
    "            'HITId': hitid, \n",
    "            'MaxResults': 100\n",
    "        }\n",
    "        if (next_token): \n",
    "            args['NextToken'] = next_token\n",
    "        r = cl.list_assignments_for_hit(**args)\n",
    "        next_token = r.get('NextToken', False)\n",
    "        assignments.extend(r[\"Assignments\"])\n",
    "        should_continue = len(r[\"Assignments\"]) > 0\n",
    "    return assignments\n",
    "\n",
    "# Summarizes all hits in `hits` in a human-readable way. \n",
    "# Prints out the HIT Title, id, if it is expired, and how many assignments it has\n",
    "# completed, pending, and left for work. \n",
    "def summarize_hits(hits): \n",
    "    print(len(hits))\n",
    "    ret = \"\"\n",
    "    for hit in hits: \n",
    "        expiration = hit['Expiration'].replace(tzinfo=None)\n",
    "        is_expired = expiration < datetime.datetime.now()\n",
    "        description = (\"Title: {title}\\n\" \n",
    "        \"ID: {hid}\\n\"\n",
    "        \"\\tAssignments left: {left}\\n\"\n",
    "        \"\\tAssignments completed: {complete}\\n\"\n",
    "        \"\\tAssignments pending: {pending}\\n\"\n",
    "        \"\\tExpired: {exp}\\n\\n\").format(\n",
    "            title=hit['Title'], \n",
    "            hid=hit['HITId'], \n",
    "            left=hit['NumberOfAssignmentsAvailable'], \n",
    "            complete=hit['NumberOfAssignmentsCompleted'], \n",
    "            pending=hit['NumberOfAssignmentsPending'],\n",
    "            exp=str(is_expired)\n",
    "        )\n",
    "        ret += description\n",
    "    print(ret)\n",
    "    \n",
    "# Prints a human-readable summary of all pending/submitted/approved assignments for all hits in `hits`\n",
    "def summarize_assignments(hits):\n",
    "    ret = \"\"\n",
    "    for hit in hits: \n",
    "        hid = hit['HITId']\n",
    "        title =  hit['Title']\n",
    "        name = \"HIT %s: %s\" % (hid, title)\n",
    "        ret += name + \"\\n\"\n",
    "        assignments = get_all_assignments(hid)\n",
    "        if len(assignments) == 0: \n",
    "            ret += \"\\tNo pending/submitted/approved assignments for this HIT\\n\"\n",
    "        for a in assignments: \n",
    "            desc = \"\\tAssignment {aid}\\n\\t\\tStatus: {status}\\n\".format(aid=a['AssignmentId'], status=a['AssignmentStatus'])\n",
    "            ret += desc\n",
    "    print(ret)\n",
    "    \n",
    "# Refreshes data about the requested hits\n",
    "def refresh_hits(): \n",
    "    global hits \n",
    "    global MAX_RESULTS\n",
    "    hits = cl.list_hits(MaxResults=MAX_RESULTS)['HITs']"
   ]
  },
  {
   "cell_type": "markdown",
   "metadata": {},
   "source": [
    "# HIT monitoring"
   ]
  },
  {
   "cell_type": "code",
   "execution_count": 111,
   "metadata": {},
   "outputs": [],
   "source": [
    "MAX_RESULTS = 30 # set equal to the number of outstanding hits you have \n",
    "\n",
    "# API call to grab HIT data from MTurk \n",
    "hits = cl.list_hits(MaxResults=MAX_RESULTS)['HITs']"
   ]
  },
  {
   "cell_type": "code",
   "execution_count": 112,
   "metadata": {},
   "outputs": [
    {
     "name": "stdout",
     "output_type": "stream",
     "text": [
      "30\n",
      "Title: Outdoor scenes\n",
      "ID: 3EN4YVUOUEGVE9H59XM0HPNNF8EXJZ\n",
      "\tAssignments left: 0\n",
      "\tAssignments completed: 0\n",
      "\tAssignments pending: 1\n",
      "\tExpired: False\n",
      "\n",
      "Title: Outdoor scenes\n",
      "ID: 341YLJU21KNYIIU23QG7FYERPKP2II\n",
      "\tAssignments left: 0\n",
      "\tAssignments completed: 0\n",
      "\tAssignments pending: 1\n",
      "\tExpired: False\n",
      "\n",
      "Title: Outdoor scenes\n",
      "ID: 3QTFNPMJC86G2U85PD2D7HKFWSHZN2\n",
      "\tAssignments left: 0\n",
      "\tAssignments completed: 0\n",
      "\tAssignments pending: 1\n",
      "\tExpired: False\n",
      "\n",
      "Title: Outdoor scenes\n",
      "ID: 3EHIMLB7F9N982L7DP7NPDQFB72H87\n",
      "\tAssignments left: 0\n",
      "\tAssignments completed: 0\n",
      "\tAssignments pending: 1\n",
      "\tExpired: False\n",
      "\n",
      "Title: Outdoor scenes\n",
      "ID: 3GONHBMNHXMAKCN5DCNDU2VFR27ZM2\n",
      "\tAssignments left: 0\n",
      "\tAssignments completed: 0\n",
      "\tAssignments pending: 1\n",
      "\tExpired: False\n",
      "\n",
      "Title: Outdoor scenes\n",
      "ID: 3421H3BM9C55DDZ76HGM1M1585O9JT\n",
      "\tAssignments left: 0\n",
      "\tAssignments completed: 0\n",
      "\tAssignments pending: 1\n",
      "\tExpired: False\n",
      "\n",
      "Title: Outdoor scenes\n",
      "ID: 3UEDKCTP9XEWAEHW95IEO5ACS407KE\n",
      "\tAssignments left: 0\n",
      "\tAssignments completed: 0\n",
      "\tAssignments pending: 1\n",
      "\tExpired: False\n",
      "\n",
      "Title: Outdoor scenes\n",
      "ID: 3R4QIDVOJR0EXT4W0RLHWKPOUU8EEN\n",
      "\tAssignments left: 0\n",
      "\tAssignments completed: 0\n",
      "\tAssignments pending: 1\n",
      "\tExpired: False\n",
      "\n",
      "Title: Outdoor scenes\n",
      "ID: 3XEIP58NL2BQEU5KD0MYUPGQRXHZL0\n",
      "\tAssignments left: 0\n",
      "\tAssignments completed: 0\n",
      "\tAssignments pending: 1\n",
      "\tExpired: False\n",
      "\n",
      "Title: Outdoor scenes\n",
      "ID: 3CVBMEMMXD458OGO3KFHBDUK0NWH7K\n",
      "\tAssignments left: 0\n",
      "\tAssignments completed: 0\n",
      "\tAssignments pending: 1\n",
      "\tExpired: False\n",
      "\n",
      "Title: Outdoor scenes\n",
      "ID: 37G6BXQPLS93UWU19IGHQ1E2DXVEQY\n",
      "\tAssignments left: 0\n",
      "\tAssignments completed: 0\n",
      "\tAssignments pending: 1\n",
      "\tExpired: False\n",
      "\n",
      "Title: Outdoor scenes\n",
      "ID: 39TX062QX3CKTVFG6CUD1I6YJBRX3M\n",
      "\tAssignments left: 0\n",
      "\tAssignments completed: 0\n",
      "\tAssignments pending: 1\n",
      "\tExpired: False\n",
      "\n",
      "Title: Outdoor scenes\n",
      "ID: 3P458N04Q35V8DJX2CG8I816DXRX2B\n",
      "\tAssignments left: 0\n",
      "\tAssignments completed: 0\n",
      "\tAssignments pending: 1\n",
      "\tExpired: False\n",
      "\n",
      "Title: Outdoor scenes\n",
      "ID: 3FCO4VKOZ61TOEPMDJ7BQAX78737ET\n",
      "\tAssignments left: 0\n",
      "\tAssignments completed: 0\n",
      "\tAssignments pending: 1\n",
      "\tExpired: False\n",
      "\n",
      "Title: Outdoor scenes\n",
      "ID: 3X878VYTIG6LUSPI8URH8SI7K8I7FB\n",
      "\tAssignments left: 0\n",
      "\tAssignments completed: 0\n",
      "\tAssignments pending: 1\n",
      "\tExpired: False\n",
      "\n",
      "Title: Outdoor scenes\n",
      "ID: 3JMNNNO3B3SGJDE7S7KMGPNZ4VM2WO\n",
      "\tAssignments left: 0\n",
      "\tAssignments completed: 0\n",
      "\tAssignments pending: 1\n",
      "\tExpired: False\n",
      "\n",
      "Title: Outdoor scenes\n",
      "ID: 3T5ZXGO9DGC15RLX55UUBBFK133ZQO\n",
      "\tAssignments left: 0\n",
      "\tAssignments completed: 0\n",
      "\tAssignments pending: 1\n",
      "\tExpired: False\n",
      "\n",
      "Title: Outdoor scenes\n",
      "ID: 33KGGVH24W5OJS11J8GUDPR1LRDX1U\n",
      "\tAssignments left: 0\n",
      "\tAssignments completed: 0\n",
      "\tAssignments pending: 1\n",
      "\tExpired: False\n",
      "\n",
      "Title: Outdoor scenes\n",
      "ID: 3NRZ1LDP7YUG5FKI5SF5B6PAW7HZPX\n",
      "\tAssignments left: 0\n",
      "\tAssignments completed: 0\n",
      "\tAssignments pending: 1\n",
      "\tExpired: False\n",
      "\n",
      "Title: Outdoor scenes\n",
      "ID: 3ZG552ORAOS34OE22XFQUN4LXMK2VE\n",
      "\tAssignments left: 0\n",
      "\tAssignments completed: 0\n",
      "\tAssignments pending: 1\n",
      "\tExpired: False\n",
      "\n",
      "Title: Outdoor scenes\n",
      "ID: 3NRZ1LDP7YUG5FKI5SF5B6PAW7GPZM\n",
      "\tAssignments left: 0\n",
      "\tAssignments completed: 0\n",
      "\tAssignments pending: 1\n",
      "\tExpired: False\n",
      "\n",
      "Title: Outdoor scenes\n",
      "ID: 3OPLMF3EU7BWX5R1ACB4Z29HHJ7NL5\n",
      "\tAssignments left: 0\n",
      "\tAssignments completed: 0\n",
      "\tAssignments pending: 1\n",
      "\tExpired: False\n",
      "\n",
      "Title: Outdoor scenes\n",
      "ID: 3AXFSPQOYSMEENQK93GEBINGB3GJFS\n",
      "\tAssignments left: 0\n",
      "\tAssignments completed: 0\n",
      "\tAssignments pending: 1\n",
      "\tExpired: False\n",
      "\n",
      "Title: Outdoor scenes\n",
      "ID: 31MBOZ6PAQFD61UALM2QJRF5IFTLCL\n",
      "\tAssignments left: 0\n",
      "\tAssignments completed: 0\n",
      "\tAssignments pending: 1\n",
      "\tExpired: False\n",
      "\n",
      "Title: Outdoor scenes\n",
      "ID: 3JY0Q5X05LUA1LWECH1TWQVCKQZGGK\n",
      "\tAssignments left: 0\n",
      "\tAssignments completed: 0\n",
      "\tAssignments pending: 1\n",
      "\tExpired: False\n",
      "\n",
      "Title: Outdoor scenes\n",
      "ID: 3HA5ODM5KCGW9NV0WCUWL5HPVGHVS8\n",
      "\tAssignments left: 0\n",
      "\tAssignments completed: 0\n",
      "\tAssignments pending: 1\n",
      "\tExpired: False\n",
      "\n",
      "Title: Outdoor scenes\n",
      "ID: 3HA5ODM5KCGW9NV0WCUWL5HPVGHSV5\n",
      "\tAssignments left: 0\n",
      "\tAssignments completed: 0\n",
      "\tAssignments pending: 1\n",
      "\tExpired: False\n",
      "\n",
      "Title: Outdoor scenes\n",
      "ID: 3HEADTGN2RGK88VNHNURVVCT9EYVRK\n",
      "\tAssignments left: 0\n",
      "\tAssignments completed: 0\n",
      "\tAssignments pending: 1\n",
      "\tExpired: False\n",
      "\n",
      "Title: Outdoor scenes\n",
      "ID: 356ZPKYPUJ5G0PAD96DMXZG8QDCPYV\n",
      "\tAssignments left: 0\n",
      "\tAssignments completed: 0\n",
      "\tAssignments pending: 1\n",
      "\tExpired: False\n",
      "\n",
      "Title: Outdoor scenes\n",
      "ID: 37MQ8Z1JQGKK8I97782A1M8FF3KY2H\n",
      "\tAssignments left: 0\n",
      "\tAssignments completed: 0\n",
      "\tAssignments pending: 1\n",
      "\tExpired: False\n",
      "\n",
      "\n"
     ]
    }
   ],
   "source": [
    "# Summarizes all outstanding HITs\n",
    "refresh_hits()\n",
    "summarize_hits(hits)"
   ]
  },
  {
   "cell_type": "code",
   "execution_count": 113,
   "metadata": {},
   "outputs": [
    {
     "name": "stdout",
     "output_type": "stream",
     "text": [
      "HIT 3EN4YVUOUEGVE9H59XM0HPNNF8EXJZ: Outdoor scenes\n",
      "\tNo pending/submitted/approved assignments for this HIT\n",
      "HIT 341YLJU21KNYIIU23QG7FYERPKP2II: Outdoor scenes\n",
      "\tNo pending/submitted/approved assignments for this HIT\n",
      "HIT 3QTFNPMJC86G2U85PD2D7HKFWSHZN2: Outdoor scenes\n",
      "\tNo pending/submitted/approved assignments for this HIT\n",
      "HIT 3EHIMLB7F9N982L7DP7NPDQFB72H87: Outdoor scenes\n",
      "\tNo pending/submitted/approved assignments for this HIT\n",
      "HIT 3GONHBMNHXMAKCN5DCNDU2VFR27ZM2: Outdoor scenes\n",
      "\tNo pending/submitted/approved assignments for this HIT\n",
      "HIT 3421H3BM9C55DDZ76HGM1M1585O9JT: Outdoor scenes\n",
      "\tNo pending/submitted/approved assignments for this HIT\n",
      "HIT 3UEDKCTP9XEWAEHW95IEO5ACS407KE: Outdoor scenes\n",
      "\tNo pending/submitted/approved assignments for this HIT\n",
      "HIT 3R4QIDVOJR0EXT4W0RLHWKPOUU8EEN: Outdoor scenes\n",
      "\tNo pending/submitted/approved assignments for this HIT\n",
      "HIT 3XEIP58NL2BQEU5KD0MYUPGQRXHZL0: Outdoor scenes\n",
      "\tNo pending/submitted/approved assignments for this HIT\n",
      "HIT 3CVBMEMMXD458OGO3KFHBDUK0NWH7K: Outdoor scenes\n",
      "\tNo pending/submitted/approved assignments for this HIT\n",
      "HIT 37G6BXQPLS93UWU19IGHQ1E2DXVEQY: Outdoor scenes\n",
      "\tNo pending/submitted/approved assignments for this HIT\n",
      "HIT 39TX062QX3CKTVFG6CUD1I6YJBRX3M: Outdoor scenes\n",
      "\tNo pending/submitted/approved assignments for this HIT\n",
      "HIT 3P458N04Q35V8DJX2CG8I816DXRX2B: Outdoor scenes\n",
      "\tNo pending/submitted/approved assignments for this HIT\n",
      "HIT 3FCO4VKOZ61TOEPMDJ7BQAX78737ET: Outdoor scenes\n",
      "\tNo pending/submitted/approved assignments for this HIT\n",
      "HIT 3X878VYTIG6LUSPI8URH8SI7K8I7FB: Outdoor scenes\n",
      "\tNo pending/submitted/approved assignments for this HIT\n",
      "HIT 3JMNNNO3B3SGJDE7S7KMGPNZ4VM2WO: Outdoor scenes\n",
      "\tNo pending/submitted/approved assignments for this HIT\n",
      "HIT 3T5ZXGO9DGC15RLX55UUBBFK133ZQO: Outdoor scenes\n",
      "\tNo pending/submitted/approved assignments for this HIT\n",
      "HIT 33KGGVH24W5OJS11J8GUDPR1LRDX1U: Outdoor scenes\n",
      "\tNo pending/submitted/approved assignments for this HIT\n",
      "HIT 3NRZ1LDP7YUG5FKI5SF5B6PAW7HZPX: Outdoor scenes\n",
      "\tNo pending/submitted/approved assignments for this HIT\n",
      "HIT 3ZG552ORAOS34OE22XFQUN4LXMK2VE: Outdoor scenes\n",
      "\tNo pending/submitted/approved assignments for this HIT\n",
      "HIT 3NRZ1LDP7YUG5FKI5SF5B6PAW7GPZM: Outdoor scenes\n",
      "\tNo pending/submitted/approved assignments for this HIT\n",
      "HIT 3OPLMF3EU7BWX5R1ACB4Z29HHJ7NL5: Outdoor scenes\n",
      "\tNo pending/submitted/approved assignments for this HIT\n",
      "HIT 3AXFSPQOYSMEENQK93GEBINGB3GJFS: Outdoor scenes\n",
      "\tNo pending/submitted/approved assignments for this HIT\n",
      "HIT 31MBOZ6PAQFD61UALM2QJRF5IFTLCL: Outdoor scenes\n",
      "\tNo pending/submitted/approved assignments for this HIT\n",
      "HIT 3JY0Q5X05LUA1LWECH1TWQVCKQZGGK: Outdoor scenes\n",
      "\tNo pending/submitted/approved assignments for this HIT\n",
      "HIT 3HA5ODM5KCGW9NV0WCUWL5HPVGHVS8: Outdoor scenes\n",
      "\tNo pending/submitted/approved assignments for this HIT\n",
      "HIT 3HA5ODM5KCGW9NV0WCUWL5HPVGHSV5: Outdoor scenes\n",
      "\tNo pending/submitted/approved assignments for this HIT\n",
      "HIT 3HEADTGN2RGK88VNHNURVVCT9EYVRK: Outdoor scenes\n",
      "\tNo pending/submitted/approved assignments for this HIT\n",
      "HIT 356ZPKYPUJ5G0PAD96DMXZG8QDCPYV: Outdoor scenes\n",
      "\tNo pending/submitted/approved assignments for this HIT\n",
      "HIT 37MQ8Z1JQGKK8I97782A1M8FF3KY2H: Outdoor scenes\n",
      "\tNo pending/submitted/approved assignments for this HIT\n",
      "\n"
     ]
    }
   ],
   "source": [
    "# Summarizes assignments for all oustanding HITs \n",
    "refresh_hits()\n",
    "summarize_assignments(hits)"
   ]
  },
  {
   "cell_type": "markdown",
   "metadata": {},
   "source": [
    "# Approve HITs"
   ]
  },
  {
   "cell_type": "markdown",
   "metadata": {},
   "source": [
    "Approves all outstanding assignments for the HITs displayed above. "
   ]
  },
  {
   "cell_type": "code",
   "execution_count": 117,
   "metadata": {},
   "outputs": [],
   "source": [
    "def approve_all(hits): \n",
    "    num_approved = 0\n",
    "    for hit in hits: \n",
    "        # make sure you keep getting assignments \n",
    "        assignments = get_all_assignments(hit[\"HITId\"])\n",
    "        #print(assignments)\n",
    "        for a in assignments: \n",
    "            if a['AssignmentStatus'] != 'Approved':\n",
    "                print(\"Approving assignment\")\n",
    "                num_approved += 1\n",
    "                cl.approve_assignment(AssignmentId=a['AssignmentId'])\n",
    "    print(\"Approved %d assignments\" % num_approved)"
   ]
  },
  {
   "cell_type": "code",
   "execution_count": 118,
   "metadata": {},
   "outputs": [
    {
     "name": "stdout",
     "output_type": "stream",
     "text": [
      "Approved 0 assignments\n"
     ]
    }
   ],
   "source": [
    "refresh_hits()\n",
    "approve_all(hits)"
   ]
  },
  {
   "cell_type": "markdown",
   "metadata": {},
   "source": [
    "# Update expiration or num tasks"
   ]
  },
  {
   "cell_type": "code",
   "execution_count": 50,
   "metadata": {},
   "outputs": [],
   "source": [
    "# changes the expiration date on a HIT to days_from_now days in the future\n",
    "def update_expiration(hitid, days_from_now): \n",
    "    if ALLOW_UPDATE_EXPIRATION: \n",
    "        days = days_from_now*datetime.timedelta(days=1)\n",
    "        expire_time = datetime.datetime.now() + days\n",
    "\n",
    "        response = cl.update_expiration_for_hit(HITId=hitid, ExpireAt=expire_time)\n",
    "        print(response)\n",
    "        return response\n",
    "    else: \n",
    "        raise RuntimeError(\"This action is not currently enabled; set `ALLOW_UPDATE_EXPIRATION` to true to proceed with this action\")\n",
    "    \n",
    "def expire_hit(hit): \n",
    "    return update_expiration(hit, -10)"
   ]
  },
  {
   "cell_type": "code",
   "execution_count": 51,
   "metadata": {},
   "outputs": [],
   "source": [
    "def add_assignments(hitid, num_assignments): \n",
    "    if ALLOW_ASSIGNMENT_ADDITION: \n",
    "        response = cl.create_additional_assignments_for_hit(\n",
    "            HITId=hitid,\n",
    "            NumberOfAdditionalAssignments=num_assignments\n",
    "        )\n",
    "        print(response)\n",
    "        return response\n",
    "    else: \n",
    "        raise RuntimeError(\"This action is not currently enabled; set `ALLOW_ASSIGNMENT_ADDITION` to true to proceed with this action\")"
   ]
  },
  {
   "cell_type": "code",
   "execution_count": 52,
   "metadata": {},
   "outputs": [
    {
     "name": "stdout",
     "output_type": "stream",
     "text": [
      "{'ResponseMetadata': {'RequestId': 'a663daa5-db42-4b1b-84b5-2d872c3c5fe2', 'HTTPStatusCode': 200, 'HTTPHeaders': {'x-amzn-requestid': 'a663daa5-db42-4b1b-84b5-2d872c3c5fe2', 'content-type': 'application/x-amz-json-1.1', 'content-length': '2', 'date': 'Tue, 14 May 2019 21:07:44 GMT'}, 'RetryAttempts': 0}}\n"
     ]
    },
    {
     "data": {
      "text/plain": [
       "{'ResponseMetadata': {'RequestId': 'a663daa5-db42-4b1b-84b5-2d872c3c5fe2',\n",
       "  'HTTPStatusCode': 200,\n",
       "  'HTTPHeaders': {'x-amzn-requestid': 'a663daa5-db42-4b1b-84b5-2d872c3c5fe2',\n",
       "   'content-type': 'application/x-amz-json-1.1',\n",
       "   'content-length': '2',\n",
       "   'date': 'Tue, 14 May 2019 21:07:44 GMT'},\n",
       "  'RetryAttempts': 0}}"
      ]
     },
     "execution_count": 52,
     "metadata": {},
     "output_type": "execute_result"
    }
   ],
   "source": [
    "# Use this cell to expire a HIT \n",
    "HIT_id_to_expire = \"FILL THIS IN\" \n",
    "#HIT_id_to_expire =\"3GKAWYFRARHD2EFMDAQNS31G9BHDPO\"\n",
    "expire_hit(HIT_id_to_expire)"
   ]
  },
  {
   "cell_type": "code",
   "execution_count": null,
   "metadata": {},
   "outputs": [],
   "source": [
    "# Use this cell to add assignments to a HIT \n",
    "HIT_id_to_add_assignments = \"FILL THIS IN\"\n",
    "num_assignments_to_add = 0\n",
    "add_assignments(HIT_id_to_add_assignments, num_assignments_to_add)"
   ]
  },
  {
   "cell_type": "markdown",
   "metadata": {},
   "source": [
    "# Add custom qualifications "
   ]
  },
  {
   "cell_type": "markdown",
   "metadata": {},
   "source": [
    "## Add a qualification to disqualify workers who have done work before\n",
    "\n",
    "- uses \"negative qualification\" method from https://github.com/cloudyr/MturkR/wiki/qualifications-as-blocks\n",
    "\n",
    "#### NOTE: quals are kept separate for the sandbox and prod. Make sure you are creating and assigning your quals in prod. "
   ]
  },
  {
   "cell_type": "markdown",
   "metadata": {},
   "source": [
    "### Structure of a new qualification"
   ]
  },
  {
   "cell_type": "code",
   "execution_count": 64,
   "metadata": {},
   "outputs": [],
   "source": [
    "NEW_QUAL = {\n",
    "    'Name': 'Auto-Granted Qualification to Prevent Retakes',\n",
    "    'Keywords': 'Worked for me before',\n",
    "    'Description': 'This qualification is for people who have worked for me on this task before. It is granted automatically to new workers.',\n",
    "    'QualificationTypeStatus': 'Active',\n",
    "    'AutoGranted': True,\n",
    "    'value': 100\n",
    "}"
   ]
  },
  {
   "cell_type": "markdown",
   "metadata": {},
   "source": [
    "### Helpers for creating, viewing, and assigning qualifications"
   ]
  },
  {
   "cell_type": "code",
   "execution_count": 65,
   "metadata": {},
   "outputs": [],
   "source": [
    "# Registers a custom qualification with MTurk \n",
    "def create_qual(new_qual):\n",
    "    if ALLOW_CREATE_QUAL: \n",
    "        response = cl.create_qualification_type(**new_qual)\n",
    "        print(response)\n",
    "        Id = response['QualificationType']['QualificationTypeId']\n",
    "        print(\"id\", Id)\n",
    "        return Id\n",
    "    else: \n",
    "        raise RuntimException(\"This action is not currently enabled; set `ALLOW_CREATE_QUAL` to true to proceed with this action\")\n",
    "        \n",
    "# Gets all the custom quals you have created and prints them\n",
    "def list_quals(): \n",
    "    response = cl.list_qualification_types(\n",
    "            Query='hasCompletedVisualGraphRecallTask',\n",
    "            MustBeRequestable=False\n",
    "    )\n",
    "    print(response)\n",
    "    \n",
    "# Assigns a qualification to a worker \n",
    "def assign_qual(qual_id, worker_ids): \n",
    "    for worker in worker_ids: \n",
    "        response = cl.associate_qualification_with_worker(\n",
    "                QualificationTypeId=qual_id, \n",
    "                WorkerId=worker,\n",
    "                IntegerValue=1,\n",
    "                SendNotification=False\n",
    "        )\n",
    "        print(response)\n",
    "        assert response\n",
    "        \n",
    "# Gets the ids of all workers who worked on a particular hit \n",
    "def get_workers_for_hit(hitid): \n",
    "    a = get_all_assignments(hitid)\n",
    "    workers = [a_['WorkerId'] for a_ in a]\n",
    "    return workers\n",
    "    \n",
    "# Confirms that every worker in worker_ids has qual with qual_id\n",
    "def confirm_quals(qual_id, worker_ids): \n",
    "    for w in worker_ids: \n",
    "        response = cl.get_qualification_score(\n",
    "                QualificationTypeId=qual_id,\n",
    "                WorkerId=w\n",
    "        )\n",
    "        response = response['Qualification']\n",
    "        assert response['Status'] == 'Granted'\n",
    "        assert response['IntegerValue'] == 1\n",
    "        \n",
    "# Assigns qual with `qual_id` to every worker who has completed an assignment for the hit with `hitid`\n",
    "def assign_qual_for_hit(hitid, qual_id): \n",
    "    workers = get_workers_for_hit(hitid)\n",
    "    print(\"got workers\")\n",
    "    assign_qual(qual_id, workers)\n",
    "    print(\"assigned qual\")\n",
    "    confirm_quals(qual_id, workers)\n",
    "    print(\"confirmed qual\")"
   ]
  },
  {
   "cell_type": "markdown",
   "metadata": {},
   "source": [
    "### Use the following cells to manipulate qualifications"
   ]
  },
  {
   "cell_type": "code",
   "execution_count": 66,
   "metadata": {},
   "outputs": [
    {
     "name": "stdout",
     "output_type": "stream",
     "text": [
      "{'NumResults': 1, 'NextToken': 'p1:w9l2UKZr5Av85xagEHdbUdM5R6XCxRCMWTv+Cjd2VB9OBhTwWmR+7lAbph8rCA==', 'QualificationTypes': [{'QualificationTypeId': '3Q3I6L0BKOF89DJMPYQCYLJBC2VW5E', 'CreationTime': datetime.datetime(2018, 3, 23, 14, 19, 7, tzinfo=tzlocal()), 'Name': 'hasCompletedVisualGraphRecallTask', 'Description': 'Assigned to people who have already completed work on a visual graph recall task. A worker can only complete this type of task once.', 'Keywords': 'Already completed visual graph recall task', 'QualificationTypeStatus': 'Active', 'IsRequestable': True, 'AutoGranted': False}], 'ResponseMetadata': {'RequestId': 'f271ce5b-1893-40c3-9794-5f1599cd33f6', 'HTTPStatusCode': 200, 'HTTPHeaders': {'x-amzn-requestid': 'f271ce5b-1893-40c3-9794-5f1599cd33f6', 'content-type': 'application/x-amz-json-1.1', 'content-length': '531', 'date': 'Tue, 14 May 2019 21:17:10 GMT'}, 'RetryAttempts': 0}}\n"
     ]
    }
   ],
   "source": [
    "# Use this cell to view the custom qualifications you have created\n",
    "list_quals()"
   ]
  },
  {
   "cell_type": "code",
   "execution_count": null,
   "metadata": {},
   "outputs": [],
   "source": [
    "# Use this cell to create a new qual \n",
    "qual_to_create = {}\n",
    "create_qual(qual_to_create)"
   ]
  },
  {
   "cell_type": "code",
   "execution_count": null,
   "metadata": {},
   "outputs": [],
   "source": [
    "# Use this cell to assign a custom qual to every worker who has done a specific HIT\n",
    "hit_id = \"FILL THIS IN\"\n",
    "qual_id_to_assign = \"FILL THIS IN\"\n",
    "assign_qual_for_hit(hit_id, qual_id_to_assign)"
   ]
  },
  {
   "cell_type": "markdown",
   "metadata": {},
   "source": [
    "# Create Compensation HIT\n",
    "\n",
    "Mistakes happen, and sometimes they can lead to a worker who put in an honest effort being unable to complete a task and get paid. It's a good idea to compensate these workers when they reach out because it helps maintain relations with workers and is the right thing to do.\n",
    "\n",
    "However, workers can only be paid upon completing a task. The workaround is to create a custom qualification, assign it to the worker you want to compensate, and create a no-work HIT requiring the custom qualification. This code does that."
   ]
  },
  {
   "cell_type": "code",
   "execution_count": null,
   "metadata": {},
   "outputs": [],
   "source": [
    "# worker_ids is str[]\n",
    "# compensation is str but should match the regex ^\\d*\\.\\d\\d$ (e.g. \"1.00\")\n",
    "# for_hit_id is str -- optional, but helpful for records\n",
    "def compensate_workers(worker_ids, compensation, for_hit_id=\"\"):\n",
    "    with open('compensation.xml', 'r') as myfile:\n",
    "        question_xml=myfile.read()\n",
    "\n",
    "    keywords = 'compensation'\n",
    "    description = 'Compensation for HIT'\n",
    "    if for_hit_id:\n",
    "        keywords += ', ' + for_hit_id\n",
    "        description += ' ' + for_hit_id\n",
    "\n",
    "    # create qual, assign to workers\n",
    "    custom_qual = {\n",
    "        'Name': str(uuid4()), # a qual must have a unique name\n",
    "        'Keywords': keywords,\n",
    "        'Description': description,\n",
    "        'QualificationTypeStatus': 'Active',\n",
    "        'AutoGranted': False\n",
    "    }\n",
    "    qual_id = create_qual(custom_qual)\n",
    "    assign_qual(qual_id, worker_ids)\n",
    "\n",
    "    # create HIT requiring qual\n",
    "    task = {\n",
    "        'numAssignments': len(worker_ids),\n",
    "        'lifetime': 3 * 24 * 60 * 60, # 3 days\n",
    "        'duration': 5 * 60, # 5 min\n",
    "        'rewardAmount': compensation,\n",
    "        'title': description,\n",
    "        'keywords': keywords,\n",
    "        'description': description,\n",
    "    }\n",
    "    quals = [{\n",
    "        'QualificationTypeId': qual_id,\n",
    "        'Comparator': 'Exists',\n",
    "        'ActionsGuarded': 'DiscoverPreviewAndAccept'\n",
    "    }]\n",
    "    create_hit(task, question_xml, quals)"
   ]
  },
  {
   "cell_type": "code",
   "execution_count": null,
   "metadata": {},
   "outputs": [],
   "source": [
    "worker_ids = [] # worker_id strings in a list\n",
    "compensation = \"0.00\" # change to the amount of dollars you want to give\n",
    "for_hit_id = \"\" # hit_id string (what you are compensating for)compensate_workers(worker_ids, compensation, for_hit_id)"
   ]
  },
  {
   "cell_type": "markdown",
   "metadata": {},
   "source": [
    "# Download data"
   ]
  },
  {
   "cell_type": "markdown",
   "metadata": {},
   "source": [
    "Helper to download data from MTurk "
   ]
  },
  {
   "cell_type": "code",
   "execution_count": 115,
   "metadata": {},
   "outputs": [],
   "source": [
    "def pretty_print(obj):\n",
    "    pp = pprint.PrettyPrinter(indent=4)\n",
    "    pp.pprint(obj)\n",
    "    pp = None\n",
    "\n",
    "# Downloads all the assignments completed for `hits` as a list of dictionaries. \n",
    "# If a download_path is given, also saves that data as json \n",
    "def get_assignment_content(hits, download_path=\"\", should_print=False): \n",
    "    all_responses = []\n",
    "    for hit in hits: \n",
    "        hitid = hit['HITId']\n",
    "        assignments = get_all_assignments(hitid)\n",
    "        for a in assignments:\n",
    "            a_xml = a['Answer']\n",
    "            #print(a_xml)\n",
    "            soup = bs(a_xml, \"html.parser\")\n",
    "            answers = soup.find_all(\"answer\")\n",
    "            #print(answers)\n",
    "            results = {'HITId': a['HITId'], 'AssignmentId': a['AssignmentId'], 'WorkerId': a['WorkerId']}\n",
    "            for ans in answers: \n",
    "                identifier = ans.find('questionidentifier').string\n",
    "                answer = ans.find('freetext').string\n",
    "                try: \n",
    "                    results[identifier] = json.loads(answer)\n",
    "                except:\n",
    "                    results[identifier] = answer\n",
    "            all_responses.append(results)\n",
    "    if should_print: \n",
    "        pretty_print(all_responses)\n",
    "    if download_path: \n",
    "        with open(download_path, 'w') as outfile: \n",
    "            json.dump(all_responses, outfile)\n",
    "    return all_responses\n",
    "            "
   ]
  },
  {
   "cell_type": "code",
   "execution_count": 116,
   "metadata": {},
   "outputs": [
    {
     "name": "stdout",
     "output_type": "stream",
     "text": [
      "[]\n"
     ]
    }
   ],
   "source": [
    "# Use this cell to download data\n",
    "responses = get_assignment_content(hits, download_path=SAVE_PATH, should_print=True)\n",
    "pass"
   ]
  },
  {
   "cell_type": "code",
   "execution_count": 120,
   "metadata": {},
   "outputs": [
    {
     "name": "stdout",
     "output_type": "stream",
     "text": [
      "128.00\n"
     ]
    }
   ],
   "source": [
    "print(cl.get_account_balance()['AvailableBalance'])"
   ]
  },
  {
   "cell_type": "code",
   "execution_count": null,
   "metadata": {},
   "outputs": [],
   "source": []
  }
 ],
 "metadata": {
  "kernelspec": {
   "display_name": "Python 3",
   "language": "python",
   "name": "python3"
  },
  "language_info": {
   "codemirror_mode": {
    "name": "ipython",
    "version": 3
   },
   "file_extension": ".py",
   "mimetype": "text/x-python",
   "name": "python",
   "nbconvert_exporter": "python",
   "pygments_lexer": "ipython3",
   "version": "3.7.3"
  }
 },
 "nbformat": 4,
 "nbformat_minor": 2
}
